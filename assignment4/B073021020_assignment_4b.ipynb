{
 "cells": [
  {
   "cell_type": "code",
   "execution_count": 5,
   "metadata": {},
   "outputs": [],
   "source": [
    "from tensorflow.keras.layers import MaxPooling2D, Conv2D\n",
    "import numpy as np\n",
    "import tensorflow as tf\n",
    "\n",
    "# Step 2 (30 points)\n",
    "def net48_siso(): \n",
    "    height, width = 48, 48\n",
    "    inputs = tf.keras.Input((height, width, 3));\n",
    "    x = Conv2D(8,3,1,'same',activation='relu')(inputs)\n",
    "    # enter your code here\n",
    "    x = MaxPooling2D(pool_size=(2, 2),strides=(2,2), padding='valid')(x)\n",
    "    x = Conv2D(6, 5, 1, padding='valid', activation='relu')(x)\n",
    "    x = MaxPooling2D(pool_size=(2, 2),strides=(2,2), padding='valid')(x)\n",
    "    x = Conv2D(4, 3, 1, padding='valid', activation='relu')(x)\n",
    "    x = MaxPooling2D(pool_size=(2, 2),strides=(2,2), padding='valid')(x)\n",
    "    x = Conv2D(2, 4, 1, padding='valid', activation='softmax', name='cls_output')(x)\n",
    "    outputs = x\n",
    "    return tf.keras.Model(inputs = inputs, outputs = outputs)"
   ]
  },
  {
   "cell_type": "code",
   "execution_count": 11,
   "metadata": {},
   "outputs": [],
   "source": [
    "# Step 3 (15 points)\n",
    "def net48_simo(): \n",
    "    height, width = 48, 48\n",
    "    inputs = tf.keras.Input((height, width, 3));\n",
    "    x = Conv2D(8,3,1,'same',activation='relu')(inputs)\n",
    "    # enter your code here\n",
    "    x1 = MaxPooling2D(pool_size=(2, 2),strides=(2,2), padding='valid')(x)\n",
    "    x1 = Conv2D(6, 5, 1, padding='valid', activation='relu')(x1)\n",
    "    x1 = MaxPooling2D(pool_size=(2, 2),strides=(2,2), padding='valid')(x1)\n",
    "    x1 = Conv2D(4, 3, 1, padding='valid', activation='relu')(x1)\n",
    "    x1 = MaxPooling2D(pool_size=(2, 2),strides=(2,2), padding='valid')(x1)\n",
    "    x1 = Conv2D(2, 4, 1, padding='valid', activation='softmax', name='cls_output')(x1)\n",
    "\n",
    "    x2 = MaxPooling2D(pool_size=(2, 2),strides=(2,2), padding='valid')(x)\n",
    "    x2 = Conv2D(6, 5, 1, padding='valid', activation='relu')(x2)\n",
    "    x2 = MaxPooling2D(pool_size=(2, 2),strides=(2,2), padding='valid')(x2)\n",
    "    x2 = Conv2D(4, 3, 1, padding='valid', activation='relu')(x2)\n",
    "    x2 = MaxPooling2D(pool_size=(2, 2),strides=(2,2), padding='valid')(x2)\n",
    "    x2 = Conv2D(4, 4, 1, padding='valid', name='reg_output')(x2)\n",
    "    outputs = x1,x2\n",
    "    # you need to modify the following line\n",
    "    return tf.keras.Model(inputs = inputs, outputs = outputs)"
   ]
  },
  {
   "cell_type": "code",
   "execution_count": 12,
   "metadata": {},
   "outputs": [],
   "source": [
    "# Do not change below.\n",
    "def check_model(cnn_model, is_simo=False):\n",
    "  print('Checking the CNN model...')\n",
    "  is_passed = True\n",
    "  is_cls_output = False\n",
    "  is_reg_output = False\n",
    "  ishape = cnn_model.input_shape[1:]\n",
    "  if (48,48,3) != ishape:\n",
    "     print('Error! The input shape', ishape, 'is not equal to (48,48,3)')\n",
    "     is_passed = False\n",
    "  for i,layer in enumerate(cnn_model.layers):\n",
    "     if layer.name == 'cls_output':\n",
    "       oshape = layer.output_shape[1:]\n",
    "       is_cls_output = True\n",
    "       if (1,1,2) != oshape:\n",
    "          print('Error! The output shape', oshape, 'is not equal to (1,1,2)')\n",
    "          is_passed = False\n",
    "     if layer.name == 'reg_output':\n",
    "       oshape = layer.output_shape[1:]\n",
    "       is_reg_output = True\n",
    "       if (1,1,4) != oshape:\n",
    "          print('Error! The output shape', oshape, 'is not equal to (1,1,4)')\n",
    "          is_passed = False\n",
    "     layer_type = layer.__class__.__name__\n",
    "     if layer_type == 'Dense':\n",
    "       print('Error! Cannot use Dense layers.')\n",
    "       is_passed = False\n",
    "     if layer_type == 'Conv2D':\n",
    "       kernel_size = layer.kernel_size\n",
    "       strides = layer.strides\n",
    "       if np.max(kernel_size) > 7:\n",
    "         print('({:d} {:s}) Error! kernel_size should be less than or equal to 7'.format(i, layer_type))\n",
    "         is_passed = False\n",
    "       if np.max(strides) > 2:\n",
    "         print('({:d} {:s}) Error! stride should be less than or equal to 2'.format(i, layer_type))\n",
    "         is_passed = False\n",
    "     if layer_type == 'MaxPooling2D':\n",
    "       pool_size = layer.pool_size\n",
    "       strides = layer.strides\n",
    "       if np.max(pool_size) > 2:\n",
    "         print('({:d} {:s}) Error! pool_size should be less than or equal to 2'.format(i, layer_type))\n",
    "         is_passed = False\n",
    "       if np.max(strides) > 2:\n",
    "         print('({:d} {:s}) Error! stride should be less than or equal to 2'.format(i, layer_type))\n",
    "         is_passed = False\n",
    "  if not is_cls_output:\n",
    "     print('Error! There should be a Conv. layer with name cls_output')\n",
    "     is_passed = False\n",
    "  if is_simo:\n",
    "     if not is_reg_output:\n",
    "       print('Error! There should be a Conv. layer with name reg_output')\n",
    "       is_passed = False\n",
    "  if is_passed:\n",
    "     print('Great! The CNN model satisfies all the requirements.')"
   ]
  },
  {
   "cell_type": "code",
   "execution_count": 13,
   "metadata": {},
   "outputs": [
    {
     "name": "stdout",
     "output_type": "stream",
     "text": [
      "Model: \"model_3\"\n",
      "_________________________________________________________________\n",
      " Layer (type)                Output Shape              Param #   \n",
      "=================================================================\n",
      " input_5 (InputLayer)        [(None, 48, 48, 3)]       0         \n",
      "                                                                 \n",
      " conv2d_14 (Conv2D)          (None, 48, 48, 8)         224       \n",
      "                                                                 \n",
      " max_pooling2d_16 (MaxPoolin  (None, 24, 24, 8)        0         \n",
      " g2D)                                                            \n",
      "                                                                 \n",
      " conv2d_15 (Conv2D)          (None, 20, 20, 6)         1206      \n",
      "                                                                 \n",
      " max_pooling2d_17 (MaxPoolin  (None, 10, 10, 6)        0         \n",
      " g2D)                                                            \n",
      "                                                                 \n",
      " conv2d_16 (Conv2D)          (None, 8, 8, 4)           220       \n",
      "                                                                 \n",
      " max_pooling2d_18 (MaxPoolin  (None, 4, 4, 4)          0         \n",
      " g2D)                                                            \n",
      "                                                                 \n",
      " cls_output (Conv2D)         (None, 1, 1, 2)           130       \n",
      "                                                                 \n",
      "=================================================================\n",
      "Total params: 1,780\n",
      "Trainable params: 1,780\n",
      "Non-trainable params: 0\n",
      "_________________________________________________________________\n",
      "Checking the CNN model...\n",
      "Great! The CNN model satisfies all the requirements.\n",
      "\n"
     ]
    }
   ],
   "source": [
    "# Do not change below.\n",
    "model48_siso = net48_siso()\n",
    "model48_siso.summary()\n",
    "check_model(model48_siso)\n",
    "print()"
   ]
  },
  {
   "cell_type": "code",
   "execution_count": 14,
   "metadata": {},
   "outputs": [
    {
     "name": "stdout",
     "output_type": "stream",
     "text": [
      "Model: \"model_4\"\n",
      "__________________________________________________________________________________________________\n",
      " Layer (type)                   Output Shape         Param #     Connected to                     \n",
      "==================================================================================================\n",
      " input_6 (InputLayer)           [(None, 48, 48, 3)]  0           []                               \n",
      "                                                                                                  \n",
      " conv2d_17 (Conv2D)             (None, 48, 48, 8)    224         ['input_6[0][0]']                \n",
      "                                                                                                  \n",
      " max_pooling2d_19 (MaxPooling2D  (None, 24, 24, 8)   0           ['conv2d_17[0][0]']              \n",
      " )                                                                                                \n",
      "                                                                                                  \n",
      " max_pooling2d_22 (MaxPooling2D  (None, 24, 24, 8)   0           ['conv2d_17[0][0]']              \n",
      " )                                                                                                \n",
      "                                                                                                  \n",
      " conv2d_18 (Conv2D)             (None, 20, 20, 6)    1206        ['max_pooling2d_19[0][0]']       \n",
      "                                                                                                  \n",
      " conv2d_20 (Conv2D)             (None, 20, 20, 6)    1206        ['max_pooling2d_22[0][0]']       \n",
      "                                                                                                  \n",
      " max_pooling2d_20 (MaxPooling2D  (None, 10, 10, 6)   0           ['conv2d_18[0][0]']              \n",
      " )                                                                                                \n",
      "                                                                                                  \n",
      " max_pooling2d_23 (MaxPooling2D  (None, 10, 10, 6)   0           ['conv2d_20[0][0]']              \n",
      " )                                                                                                \n",
      "                                                                                                  \n",
      " conv2d_19 (Conv2D)             (None, 8, 8, 4)      220         ['max_pooling2d_20[0][0]']       \n",
      "                                                                                                  \n",
      " conv2d_21 (Conv2D)             (None, 8, 8, 4)      220         ['max_pooling2d_23[0][0]']       \n",
      "                                                                                                  \n",
      " max_pooling2d_21 (MaxPooling2D  (None, 4, 4, 4)     0           ['conv2d_19[0][0]']              \n",
      " )                                                                                                \n",
      "                                                                                                  \n",
      " max_pooling2d_24 (MaxPooling2D  (None, 4, 4, 4)     0           ['conv2d_21[0][0]']              \n",
      " )                                                                                                \n",
      "                                                                                                  \n",
      " cls_output (Conv2D)            (None, 1, 1, 2)      130         ['max_pooling2d_21[0][0]']       \n",
      "                                                                                                  \n",
      " reg_output (Conv2D)            (None, 1, 1, 4)      260         ['max_pooling2d_24[0][0]']       \n",
      "                                                                                                  \n",
      "==================================================================================================\n",
      "Total params: 3,466\n",
      "Trainable params: 3,466\n",
      "Non-trainable params: 0\n",
      "__________________________________________________________________________________________________\n",
      "Checking the CNN model...\n",
      "Great! The CNN model satisfies all the requirements.\n",
      "\n"
     ]
    }
   ],
   "source": [
    "# Do not change below.\n",
    "model48_simo = net48_simo()\n",
    "model48_simo.summary()\n",
    "check_model(model48_simo, is_simo=True)\n",
    "print()"
   ]
  },
  {
   "cell_type": "code",
   "execution_count": 15,
   "metadata": {},
   "outputs": [
    {
     "name": "stdout",
     "output_type": "stream",
     "text": [
      "(1, 1, 1, 2)\n",
      "(1, 1, 1, 4)\n",
      "[0.37743437 0.62256557]\n"
     ]
    }
   ],
   "source": [
    "# Do not change below.\n",
    "img = np.random.randn(1, 48, 48, 3)\n",
    "outputs = model48_simo.predict(img)\n",
    "print(outputs[0].shape) # should display (1,1,1,2)\n",
    "print(outputs[1].shape) # should display (1,1,1,4)\n",
    "cls = np.reshape(outputs[0], (2,))\n",
    "reg = np.reshape(outputs[1], (4,))\n",
    "print(cls)"
   ]
  },
  {
   "cell_type": "code",
   "execution_count": 16,
   "metadata": {},
   "outputs": [],
   "source": [
    "# Question 2 (5 points)\n",
    "# Why cls[0] + cls[1] is always equal to one regardless of  the values of img?\n",
    "# 活化函數選擇softmax的關係，使得每一個元素的範圍都在{\\displaystyle (0,1)}{\\displaystyle (0,1)}之間，並且所有元素的和為1。"
   ]
  }
 ],
 "metadata": {
  "interpreter": {
   "hash": "ad2bdc8ecc057115af97d19610ffacc2b4e99fae6737bb82f5d7fb13d2f2c186"
  },
  "kernelspec": {
   "display_name": "Python 3.9.7",
   "language": "python",
   "name": "python3"
  },
  "language_info": {
   "codemirror_mode": {
    "name": "ipython",
    "version": 3
   },
   "file_extension": ".py",
   "mimetype": "text/x-python",
   "name": "python",
   "nbconvert_exporter": "python",
   "pygments_lexer": "ipython3",
   "version": "3.9.7"
  },
  "orig_nbformat": 4
 },
 "nbformat": 4,
 "nbformat_minor": 2
}
