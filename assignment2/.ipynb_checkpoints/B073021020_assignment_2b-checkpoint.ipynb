{
 "cells": [
  {
   "cell_type": "code",
   "execution_count": 2,
   "id": "756b652d",
   "metadata": {},
   "outputs": [
    {
     "name": "stdout",
     "output_type": "stream",
     "text": [
      "      width < 10:34706\n",
      "10 <= width < 20: 57250\n",
      "20 <= width < 30: 24885\n",
      "30 <= width < 40: 13338\n",
      "40 <= width < 50: 8011\n",
      "50 <= width       20699\n",
      "\n",
      "       width/height < 0.6: 7720#1\n",
      "0.6 <= width/height < 0.7: 22966#2\n",
      "0.7 <= width/height < 0.8: 46997#3\n",
      "0.8 <= width/height < 0.9: 45458#4\n",
      "0.9 <= width/height < 1.0: 16786#5\n",
      "1.0 <= width/height      : 18962#6\n",
      "\n",
      "invalid:535\n"
     ]
    },
    {
     "data": {
      "image/png": "[encoded data removed]",
      "text/plain": [
       "<Figure size 432x288 with 1 Axes>"
      ]
     },
     "metadata": {
      "needs_background": "light"
     },
     "output_type": "display_data"
    }
   ],
   "source": [
    "import numpy as np\n",
    "import matplotlib.pyplot as plt\n",
    "%matplotlib inline\n",
    "\n",
    "if __name__ == '__main__':\n",
    "    anno_file = 'annotation.txt'\n",
    "    with open(anno_file, 'r') as fp:\n",
    "        lines = fp.readlines()\n",
    "  # Enter your code here (25%)\n",
    "  # You might use the following to access each line\n",
    "    width_1 = width_2= width_3= width_4= width_5= width_6 = 0\n",
    "    ratio_1 = ratio_2= ratio_3= ratio_4= ratio_5= ratio_6 = 0\n",
    "    valid = invalid = 0\n",
    "    widths = []\n",
    "    for line in lines:\n",
    "        annotation = line.strip().split(' ')   \n",
    "        annotation = list(map (int, annotation[1:])) #to integer\n",
    "        #print(annotation)\n",
    "        array_A = np.array(annotation)\n",
    "        j = int(np.size(array_A)/4)\n",
    "        #print(j)\n",
    "        array_B = np.reshape(array_A,(j,4))\n",
    "        #print(array_B)\n",
    "        \n",
    "        #print(array_B.shape)   \n",
    "        for i in range(j):\n",
    "            if(array_B[i][0]>=0 and array_B[i][1]>=0 and array_B[i][2]>array_B[i][0] and array_B[i][3]>array_B[i][1]):\n",
    "                width = array_B[i][2]-array_B[i][0]+1\n",
    "                height = array_B[i][3]-array_B[i][1]+1\n",
    "                valid = valid + 1\n",
    "                ratio = width/height\n",
    "                if width<10:\n",
    "                        width_1 = width_1+1\n",
    "                elif 10 <=width<20:\n",
    "                        width_2 = width_2+1\n",
    "                elif 20 <=width<30:\n",
    "                        width_3 = width_3+1\n",
    "                elif 30 <=width<40:\n",
    "                        width_4 = width_4+1\n",
    "                elif 40 <=width<50:\n",
    "                        width_5 = width_5+1\n",
    "                elif 50 <=width  :\n",
    "                        width_6 = width_6+1\n",
    "                widths.append(width) #將所有width寫入width的list\n",
    "                   \n",
    "                \n",
    "                if ratio<0.6:\n",
    "                    ratio_1 = ratio_1+1\n",
    "                elif 0.6 <= ratio < 0.7:\n",
    "                    ratio_2 = ratio_2+1\n",
    "                elif 0.7 <= ratio < 0.8:\n",
    "                    ratio_3 = ratio_3+1\n",
    "                elif 0.8 <= ratio < 0.9:\n",
    "                    ratio_4 = ratio_4+1\n",
    "                elif 0.9 <= ratio < 1.0: \n",
    "                    ratio_5 = ratio_5+1\n",
    "                elif 1.0 <= ratio:\n",
    "                    ratio_6 = ratio_6+1\n",
    "            else:\n",
    "                 invalid = invalid + 1 \n",
    "                    \n",
    "    print('      width < 10:'+str(width_1))\n",
    "    print('10 <= width < 20: '+str(width_2))\n",
    "    print('20 <= width < 30: '+str(width_3))\n",
    "    print('30 <= width < 40: '+str(width_4))\n",
    "    print('40 <= width < 50: '+str(width_5))\n",
    "    print('50 <= width       '+str(width_6))\n",
    "                \n",
    "    print('\\n       width/height < 0.6: '+str(ratio_1) +'#1')\n",
    "    print('0.6 <= width/height < 0.7: '+str(ratio_2) +'#2')\n",
    "    print('0.7 <= width/height < 0.8: '+str(ratio_3) +'#3')\n",
    "    print('0.8 <= width/height < 0.9: '+str(ratio_4) +'#4')\n",
    "    print('0.9 <= width/height < 1.0: '+str(ratio_5) +'#5')\n",
    "    print('1.0 <= width/height      : '+str(ratio_6) +'#6')\n",
    "        \n",
    "    print('\\ninvalid:'+str(invalid))   \n",
    "    plt.hist(widths, range(0,101,10), rwidth=0.85)\n",
    "    plt.xlabel('Width')\n",
    "    plt.ylabel('Count')\n",
    "    plt.show()\n",
    "        \n",
    "   \n",
    "        \n",
    "        \n",
    "        "
   ]
  },
  {
   "cell_type": "code",
   "execution_count": null,
   "id": "73a8069b",
   "metadata": {},
   "outputs": [],
   "source": [
    "# The above code only considers valid bounding boxes. How many bounding boxes are invalid? Modify the above code to find the answer. (5%)\n",
    "# Write down your answer here.\n",
    "#invalid的個數為535"
   ]
  },
  {
   "cell_type": "code",
   "execution_count": null,
   "id": "102e8cf4",
   "metadata": {},
   "outputs": [],
   "source": []
  },
  {
   "cell_type": "code",
   "execution_count": null,
   "id": "ddd0a99c",
   "metadata": {},
   "outputs": [],
   "source": []
  },
  {
   "cell_type": "code",
   "execution_count": null,
   "id": "9a3228df",
   "metadata": {},
   "outputs": [],
   "source": []
  }
 ],
 "metadata": {
  "kernelspec": {
   "display_name": "Python 3 (ipykernel)",
   "language": "python",
   "name": "python3"
  },
  "language_info": {
   "codemirror_mode": {
    "name": "ipython",
    "version": 3
   },
   "file_extension": ".py",
   "mimetype": "text/x-python",
   "name": "python",
   "nbconvert_exporter": "python",
   "pygments_lexer": "ipython3",
   "version": "3.9.7"
  }
 },
 "nbformat": 4,
 "nbformat_minor": 5
}
